{
  "cells": [
    {
      "cell_type": "markdown",
      "source": [
        "Standard package imports"
      ],
      "metadata": {
        "nteract": {
          "transient": {
            "deleting": false
          }
        }
      }
    },
    {
      "cell_type": "code",
      "source": [
        "import pandas as pd\n",
        "import matplotlib.pyplot as plt\n",
        "import seaborn as sns\n",
        "from sklearn.model_selection import train_test_split\n",
        "from sklearn.linear_model import LinearRegression\n",
        "from sklearn.metrics import mean_squared_error, r2_score\n",
        "import random\n",
        "from sklearn.preprocessing import LabelEncoder\n",
        "from sklearn.ensemble import RandomForestClassifier\n",
        "from sklearn.metrics import accuracy_score, precision_score, recall_score, roc_auc_score\n",
        "from sklearn.svm import SVC\n",
        "from sklearn.tree import DecisionTreeClassifier\n",
        "from sklearn.naive_bayes import GaussianNB"
      ],
      "outputs": [],
      "execution_count": null,
      "metadata": {
        "jupyter": {
          "source_hidden": false,
          "outputs_hidden": false
        },
        "nteract": {
          "transient": {
            "deleting": false
          }
        }
      }
    },
    {
      "cell_type": "markdown",
      "source": [
        "Data Description\n",
        "\n",
        "There are 3 csv files : user profile data, article item data, and interaction data. \n",
        "\n",
        "1. User Profile Data\n",
        "Columns:\n",
        "•\tAPPUSERID: Unique identifier for each user.\n",
        "•\tAcctNewSegment: Account segmentation category.\n",
        "•\tAccountIndustryCategory: Industry classification.\n",
        "•\tAcctSegment: Account segmentation.\n",
        "•\tTitle: User's title/role.\n",
        "•\tDV_U_JOB_FUNCTION: Job function of the user.\n",
        "•\tDV_U_JOB_LEVEL: Job level of the user.\n",
        "•\tDV_U_JOB_ROLE: Detailed role of the user.\n",
        "2. Article Item Data\n",
        "Columns:\n",
        "•\tARTICLE_NUMBER: Unique identifier for each article.\n",
        "•\tARTICLE_TITLE: Title of the article.\n",
        "•\tCONTENT_TYPE: Type of content (e.g., \"Support and Troubleshooting\").\n",
        "•\tCOMPANY: Company associated with the article.\n",
        "3. Interaction Data\n",
        "Columns:\n",
        "•\tAPPUSERID: User interacting with the article.\n",
        "•\tARTICLE_NUMBER: Article being interacted with.\n",
        "•\tTarget: Indicates interaction (1 = interacted, 0 = not interacted).\n"
      ],
      "metadata": {
        "nteract": {
          "transient": {
            "deleting": false
          }
        }
      }
    },
    {
      "cell_type": "code",
      "source": [
        "\n",
        "# Load the data\n",
        "article_item_data = pd.read_csv(\"Article_Item_Data1.csv\")\n",
        "interaction_data = pd.read_csv(\"Interaction_Data1.csv\")\n",
        "user_profile_data = pd.read_csv(\"User_Profile_Data1.csv\")"
      ],
      "outputs": [],
      "execution_count": 1,
      "metadata": {
        "jupyter": {
          "source_hidden": false,
          "outputs_hidden": false
        },
        "nteract": {
          "transient": {
            "deleting": false
          }
        },
        "gather": {
          "logged": 1734407769892
        }
      }
    },
    {
      "cell_type": "code",
      "source": [
        "# Merge datasets to prepare data for recommendation\n",
        "# Assuming 'APPUSERID' is in user_profile_data, and 'ARTICLE_NUMBER' is in article_item_data\n",
        "\n",
        "# Merge interaction data with user profiles\n",
        "user_interactions = interaction_data.merge(user_profile_data, on=\"APPUSERID\", how=\"left\")\n",
        "\n",
        "# Merge the result with article item data\n",
        "full_data = user_interactions.merge(article_item_data, on=\"ARTICLE_NUMBER\", how=\"left\")\n",
        "\n",
        "# Encoding categorical features for modeling\n",
        "from sklearn.preprocessing import LabelEncoder\n",
        "categorical_columns = full_data.select_dtypes(include=['object']).columns"
      ],
      "outputs": [],
      "execution_count": 2,
      "metadata": {
        "jupyter": {
          "source_hidden": false,
          "outputs_hidden": false
        },
        "nteract": {
          "transient": {
            "deleting": false
          }
        },
        "gather": {
          "logged": 1734407781222
        }
      }
    },
    {
      "cell_type": "code",
      "source": [
        "# Check the columns in the dataset\n",
        "print(full_data.columns)\n"
      ],
      "outputs": [
        {
          "output_type": "stream",
          "name": "stdout",
          "text": "Index(['APPUSERID', 'ARTICLE_NUMBER', 'COMPANY', 'CONTENT_TYPE_x',\n       'AcctNewSegment', 'AccountIndustryCategory', 'AcctSegment', 'TITLE',\n       'DV_U_JOB_FUNCTION', 'DV_U_JOB_LEVEL', 'DV_U_JOB_ROLE', 'ARTICLE_TITLE',\n       'CONTENT_TYPE_y'],\n      dtype='object')\n"
        }
      ],
      "execution_count": 3,
      "metadata": {
        "jupyter": {
          "source_hidden": false,
          "outputs_hidden": false
        },
        "nteract": {
          "transient": {
            "deleting": false
          }
        },
        "gather": {
          "logged": 1734407868976
        }
      }
    },
    {
      "cell_type": "code",
      "source": [
        "full_data['Target'] = 1  # Assign 1 to all rows\n",
        "\n",
        "\n",
        "label_encoders = {}\n",
        "for col in categorical_columns:\n",
        "    le = LabelEncoder()\n",
        "    full_data[col] = le.fit_transform(full_data[col].astype(str))\n",
        "    label_encoders[col] = le\n",
        "\n",
        "# Prepare features (X) and target (y)\n",
        "X = full_data.drop(columns=['APPUSERID', 'ARTICLE_NUMBER', 'Target'], errors='ignore')  # Replace 'Target' with correct target column if available\n",
        "y = full_data['Target']  # Replace 'Target' with the actual target variable if available"
      ],
      "outputs": [],
      "execution_count": 4,
      "metadata": {
        "jupyter": {
          "source_hidden": false,
          "outputs_hidden": false
        },
        "nteract": {
          "transient": {
            "deleting": false
          }
        },
        "gather": {
          "logged": 1734407875004
        }
      }
    },
    {
      "cell_type": "code",
      "source": [
        "full_data.columns"
      ],
      "outputs": [
        {
          "output_type": "execute_result",
          "execution_count": 5,
          "data": {
            "text/plain": "Index(['APPUSERID', 'ARTICLE_NUMBER', 'COMPANY', 'CONTENT_TYPE_x',\n       'AcctNewSegment', 'AccountIndustryCategory', 'AcctSegment', 'TITLE',\n       'DV_U_JOB_FUNCTION', 'DV_U_JOB_LEVEL', 'DV_U_JOB_ROLE', 'ARTICLE_TITLE',\n       'CONTENT_TYPE_y', 'Target'],\n      dtype='object')"
          },
          "metadata": {}
        }
      ],
      "execution_count": 5,
      "metadata": {
        "jupyter": {
          "source_hidden": false,
          "outputs_hidden": false
        },
        "nteract": {
          "transient": {
            "deleting": false
          }
        },
        "gather": {
          "logged": 1734408293554
        }
      }
    },
    {
      "cell_type": "markdown",
      "source": [
        "Categorical variable:Visualization "
      ],
      "metadata": {
        "nteract": {
          "transient": {
            "deleting": false
          }
        }
      }
    },
    {
      "cell_type": "code",
      "source": [
        "\n",
        "\n",
        "# Check if 'AcctNewSegment' exists in the dataset\n",
        "if 'AcctNewSegment' in full_data.columns:\n",
        "    # Count values for 'AcctNewSegment'\n",
        "    value_counts = full_data['AcctNewSegment'].value_counts()\n",
        "\n",
        "    # Plot the distribution\n",
        "    plt.figure(figsize=(10, 6))\n",
        "   # ax = sns.barplot(x=value_counts.index, y=value_counts.values, palette=\"viridis\")\n",
        "    ax = sns.barplot(x=value_counts.index, y=value_counts.values, hue=value_counts.index, legend=False)\n",
        "    plt.title(\"Distribution of New Segment\")\n",
        "    plt.xlabel(\"New Segment\")\n",
        "    plt.ylabel(\"Count\")\n",
        "    plt.xticks(rotation=45, ha='right')\n"
      ],
      "outputs": [
        {
          "output_type": "display_data",
          "data": {
            "text/plain": "<Figure size 1000x600 with 1 Axes>",
            "image/png": "[encoded data removed]"
          },
          "metadata": {}
        }
      ],
      "execution_count": 22,
      "metadata": {
        "jupyter": {
          "source_hidden": false,
          "outputs_hidden": false
        },
        "nteract": {
          "transient": {
            "deleting": false
          }
        },
        "gather": {
          "logged": 1734413965311
        }
      }
    },
    {
      "cell_type": "code",
      "source": [
        "\n",
        "# Check if 'AccountIndustryCategory' exists in the dataset\n",
        "if 'AccountIndustryCategory' in full_data.columns:\n",
        "    # Count values for 'AccountIndustryCategory'\n",
        "    value_counts = full_data['AccountIndustryCategory'].value_counts()\n",
        "\n",
        "    # Plot the distribution\n",
        "    plt.figure(figsize=(10, 6))\n",
        "    #ax = sns.barplot(x=value_counts.index, y=value_counts.values, palette=\"viridis\")\n",
        "    ax = sns.barplot(x=value_counts.index, y=value_counts.values, hue=value_counts.index, legend=False)\n",
        "    plt.title(\"Distribution of Account Industry\")\n",
        "    plt.xlabel(\"Industry\")\n",
        "    plt.ylabel(\"Count\")\n",
        "    plt.xticks(rotation=45, ha='right')\n",
        "\n"
      ],
      "outputs": [
        {
          "output_type": "display_data",
          "data": {
            "text/plain": "<Figure size 1000x600 with 1 Axes>",
            "image/png": "[encoded data removed]"
          },
          "metadata": {}
        }
      ],
      "execution_count": 21,
      "metadata": {
        "jupyter": {
          "source_hidden": false,
          "outputs_hidden": false
        },
        "nteract": {
          "transient": {
            "deleting": false
          }
        },
        "gather": {
          "logged": 1734413950678
        }
      }
    },
    {
      "cell_type": "code",
      "source": [
        "\n",
        "# Check if 'AcctSegment' exists in the dataset\n",
        "if 'AcctSegment' in full_data.columns:\n",
        "    # Count values for 'AcctSegment'\n",
        "    value_counts = full_data['AcctSegment'].value_counts()\n",
        "\n",
        "    # Plot the distribution\n",
        "    plt.figure(figsize=(10, 6))\n",
        "    #ax = sns.barplot(x=value_counts.index, y=value_counts.values, palette=\"viridis\")\n",
        "    ax = sns.barplot(x=value_counts.index, y=value_counts.values, hue=value_counts.index, legend=False)\n",
        "    plt.title(\"Distribution of Segment\")\n",
        "    plt.xlabel(\"Segment\")\n",
        "    plt.ylabel(\"Count\")\n",
        "    plt.xticks(rotation=45, ha='right')"
      ],
      "outputs": [
        {
          "output_type": "display_data",
          "data": {
            "text/plain": "<Figure size 1000x600 with 1 Axes>",
            "image/png": "[encoded data removed]"
          },
          "metadata": {}
        }
      ],
      "execution_count": 23,
      "metadata": {
        "jupyter": {
          "source_hidden": false,
          "outputs_hidden": false
        },
        "nteract": {
          "transient": {
            "deleting": false
          }
        },
        "gather": {
          "logged": 1734413989116
        }
      }
    },
    {
      "cell_type": "code",
      "source": [
        "\n",
        "# Check if 'CONTENT_TYPE_x' exists in the dataset\n",
        "if 'CONTENT_TYPE_x' in full_data.columns:\n",
        "    # Count values for 'CONTENT_TYPE_x'\n",
        "    value_counts = full_data['CONTENT_TYPE_x'].value_counts()\n",
        "\n",
        "    # Plot the distribution\n",
        "    plt.figure(figsize=(10, 6))\n",
        "    #ax = sns.barplot(x=value_counts.index, y=value_counts.values, palette=\"viridis\")\n",
        "    ax = sns.barplot(x=value_counts.index, y=value_counts.values, hue=value_counts.index, legend=False)\n",
        "    plt.title(\"CONTENT_TYPE Distribution\")\n",
        "    plt.xlabel(\"CONTENT_TYPE\")\n",
        "    plt.ylabel(\"Count\")\n",
        "    plt.xticks(rotation=45, ha='right')"
      ],
      "outputs": [
        {
          "output_type": "display_data",
          "data": {
            "text/plain": "<Figure size 1000x600 with 1 Axes>",
            "image/png": "[encoded data removed]"
          },
          "metadata": {}
        }
      ],
      "execution_count": 24,
      "metadata": {
        "jupyter": {
          "source_hidden": false,
          "outputs_hidden": false
        },
        "nteract": {
          "transient": {
            "deleting": false
          }
        },
        "gather": {
          "logged": 1734414009439
        }
      }
    },
    {
      "cell_type": "code",
      "source": [
        "\n",
        "# Check if 'DV_U_JOB_ROLE' exists in the dataset\n",
        "if 'DV_U_JOB_ROLE' in full_data.columns:\n",
        "    # Count values for 'DV_U_JOB_ROLE'\n",
        "    value_counts = full_data['DV_U_JOB_ROLE'].value_counts()\n",
        "\n",
        "    # Plot the distribution\n",
        "    plt.figure(figsize=(10, 6))\n",
        "    #ax = sns.barplot(x=value_counts.index, y=value_counts.values, palette=\"viridis\")\n",
        "    ax = sns.barplot(x=value_counts.index, y=value_counts.values, hue=value_counts.index, legend=False)\n",
        "    plt.title(\"DV_U_JOB_ROLE Distribution\")\n",
        "    plt.xlabel(\"DV_U_JOB_ROLE\")\n",
        "    plt.ylabel(\"Count\")\n",
        "    plt.xticks(rotation=45, ha='right')\n",
        "\n",
        "    plt.tight_layout()\n",
        "    plt.show()\n",
        "else:\n",
        "    print(\"Column 'DV_U_JOB_ROLE' not found in the dataset.\")\n"
      ],
      "outputs": [
        {
          "output_type": "display_data",
          "data": {
            "text/plain": "<Figure size 1000x600 with 1 Axes>",
            "image/png": "[encoded data removed]"
          },
          "metadata": {}
        }
      ],
      "execution_count": 25,
      "metadata": {
        "jupyter": {
          "source_hidden": false,
          "outputs_hidden": false
        },
        "nteract": {
          "transient": {
            "deleting": false
          }
        },
        "gather": {
          "logged": 1734414040070
        }
      }
    },
    {
      "cell_type": "code",
      "source": [
        "\n",
        "# Check if 'DV_U_JOB_LEVEL' exists in the dataset\n",
        "if 'DV_U_JOB_LEVEL' in full_data.columns:\n",
        "    # Count values for 'DV_U_JOB_LEVEL'\n",
        "    value_counts = full_data['DV_U_JOB_LEVEL'].value_counts()\n",
        "\n",
        "    # Plot the distribution\n",
        "    plt.figure(figsize=(10, 6))\n",
        "   # ax = sns.barplot(x=value_counts.index, y=value_counts.values, palette=\"viridis\")\n",
        "    ax = sns.barplot(x=value_counts.index, y=value_counts.values, hue=value_counts.index, legend=False)\n",
        "    plt.title(\"DV_U_JOB_LEVEL Distribution\")\n",
        "    plt.xlabel(\"DV_U_JOB_LEVEL\")\n",
        "    plt.ylabel(\"Count\")\n",
        "    plt.xticks(rotation=45, ha='right')\n",
        "\n",
        "    plt.tight_layout()\n",
        "    plt.show()\n",
        "else:\n",
        "    print(\"Column 'DV_U_JOB_ROLE' not found in the dataset.\")\n"
      ],
      "outputs": [
        {
          "output_type": "display_data",
          "data": {
            "text/plain": "<Figure size 1000x600 with 1 Axes>",
            "image/png": "[encoded data removed]"
          },
          "metadata": {}
        }
      ],
      "execution_count": 26,
      "metadata": {
        "jupyter": {
          "source_hidden": false,
          "outputs_hidden": false
        },
        "nteract": {
          "transient": {
            "deleting": false
          }
        },
        "gather": {
          "logged": 1734414052401
        }
      }
    },
    {
      "cell_type": "code",
      "source": [
        "\n",
        "# Check if 'DV_U_JOB_FUNCTION' exists in the dataset\n",
        "if 'DV_U_JOB_FUNCTION' in full_data.columns:\n",
        "    # Count values for 'DV_U_JOB_FUNCTION'\n",
        "    value_counts = full_data['DV_U_JOB_FUNCTION'].value_counts()\n",
        "\n",
        "    # Plot the distribution\n",
        "    plt.figure(figsize=(10, 6))\n",
        "    #ax = sns.barplot(x=value_counts.index, y=value_counts.values, palette=\"viridis\")\n",
        "    ax = sns.barplot(x=value_counts.index, y=value_counts.values, hue=value_counts.index, legend=False)\n",
        "    plt.title(\"DV_U_JOB_FUNCTION Distribution\")\n",
        "    plt.xlabel(\"DV_U_JOB_FUNCTION\")\n",
        "    plt.ylabel(\"Count\")\n",
        "    plt.xticks(rotation=45, ha='right')\n",
        "\n",
        "    plt.tight_layout()\n",
        "    plt.show()\n",
        "else:\n",
        "    print(\"Column 'DV_U_JOB_ROLE' not found in the dataset.\")\n"
      ],
      "outputs": [
        {
          "output_type": "display_data",
          "data": {
            "text/plain": "<Figure size 1000x600 with 1 Axes>",
            "image/png": "[encoded data removed]"
          },
          "metadata": {}
        }
      ],
      "execution_count": 27,
      "metadata": {
        "jupyter": {
          "source_hidden": false,
          "outputs_hidden": false
        },
        "nteract": {
          "transient": {
            "deleting": false
          }
        },
        "gather": {
          "logged": 1734414066516
        }
      }
    },
    {
      "cell_type": "markdown",
      "source": [
        "Analysis:\n",
        "\n",
        "Linear Regression and Random Forest"
      ],
      "metadata": {
        "nteract": {
          "transient": {
            "deleting": false
          }
        }
      }
    },
    {
      "cell_type": "code",
      "source": [
        "# Train-test split\n",
        "\n",
        "\n",
        "X_train, X_test, y_train, y_test = train_test_split(X, y, test_size=0.2, random_state=42)"
      ],
      "outputs": [],
      "execution_count": 7,
      "metadata": {
        "jupyter": {
          "source_hidden": false,
          "outputs_hidden": false
        },
        "nteract": {
          "transient": {
            "deleting": false
          }
        },
        "gather": {
          "logged": 1734266341933
        }
      }
    },
    {
      "cell_type": "code",
      "source": [
        "# Apply Linear Regression for recommendation\n",
        "\n",
        "# Initialize and train the model\n",
        "model = LinearRegression()\n",
        "model.fit(X_train, y_train)\n",
        "\n",
        "# Make predictions\n",
        "y_pred = model.predict(X_test)\n",
        "\n",
        "# Evaluate the model\n",
        "mse = mean_squared_error(y_test, y_pred)\n",
        "r2 = r2_score(y_test, y_pred)\n",
        "\n",
        "mse, r2\n"
      ],
      "outputs": [
        {
          "output_type": "execute_result",
          "execution_count": 8,
          "data": {
            "text/plain": "(np.float64(0.0), 1.0)"
          },
          "metadata": {}
        }
      ],
      "execution_count": 8,
      "metadata": {
        "jupyter": {
          "source_hidden": false,
          "outputs_hidden": false
        },
        "nteract": {
          "transient": {
            "deleting": false
          }
        },
        "gather": {
          "logged": 1734266345189
        }
      }
    },
    {
      "cell_type": "markdown",
      "source": [
        "Interpretation\n",
        "1. Mean Squared Error (MSE): 0.0\n",
        "The MSE is a measure of how well the model's predictions align with the actual target values.\n",
        "An MSE of 0.0 means the model has made perfect predictions, with no errors at all.\n",
        "2. R-squared (R²): 1.0\n",
        "The R² score measures the proportion of variance in the target variable that is explained by the features.\n",
        "An R² of 1.0 indicates the model explains 100% of the variance in the target variable, which implies a perfect fit."
      ],
      "metadata": {
        "nteract": {
          "transient": {
            "deleting": false
          }
        }
      }
    },
    {
      "cell_type": "code",
      "source": [
        "import random\n",
        "\n",
        "def generate_negative_samples(interaction_data, total_articles, negative_ratio=1):\n",
        "    \"\"\"\n",
        "    Generate negative samples for user-article pairs with no interactions.\n",
        "    \n",
        "    Parameters:\n",
        "    - interaction_data: DataFrame with positive interactions.\n",
        "    - total_articles: List of all unique articles.\n",
        "    - negative_ratio: Number of negative samples per positive sample.\n",
        "    \n",
        "    Returns:\n",
        "    - negative_samples: DataFrame with generated negative samples.\n",
        "    \"\"\"\n",
        "    negative_samples = []\n",
        "    users = interaction_data['APPUSERID'].unique()\n",
        "    interacted_pairs = set(zip(interaction_data['APPUSERID'], interaction_data['ARTICLE_NUMBER']))\n",
        "    \n",
        "    for user in users:\n",
        "        # Get all articles the user has not interacted with\n",
        "        user_interactions = interaction_data[interaction_data['APPUSERID'] == user]['ARTICLE_NUMBER']\n",
        "        non_interacted_articles = list(set(total_articles) - set(user_interactions))\n",
        "        \n",
        "        # Randomly sample negative examples\n",
        "        negative_articles = random.sample(non_interacted_articles, min(len(non_interacted_articles), negative_ratio * len(user_interactions)))\n",
        "        \n",
        "        # Create negative samples\n",
        "        for article in negative_articles:\n",
        "            negative_samples.append({'APPUSERID': user, 'ARTICLE_NUMBER': article, 'Target': 0})\n",
        "    \n",
        "    return pd.DataFrame(negative_samples)\n",
        "\n",
        "# Generate negative samples\n",
        "total_articles = interaction_data['ARTICLE_NUMBER'].unique()\n",
        "negative_samples = generate_negative_samples(interaction_data, total_articles, negative_ratio=2)\n",
        "\n",
        "# Add Target column for positive samples\n",
        "interaction_data['Target'] = 1  # Positive samples\n",
        "\n",
        "# Combine positive and negative samples\n",
        "full_data = pd.concat([interaction_data, negative_samples])\n"
      ],
      "outputs": [],
      "execution_count": 9,
      "metadata": {
        "jupyter": {
          "source_hidden": false,
          "outputs_hidden": false
        },
        "nteract": {
          "transient": {
            "deleting": false
          }
        },
        "gather": {
          "logged": 1734266356917
        }
      }
    },
    {
      "cell_type": "code",
      "source": [
        "print(full_data['Target'].value_counts())\n"
      ],
      "outputs": [
        {
          "output_type": "stream",
          "name": "stdout",
          "text": "Target\n0    23544\n1    11772\nName: count, dtype: int64\n"
        }
      ],
      "execution_count": 10,
      "metadata": {
        "jupyter": {
          "source_hidden": false,
          "outputs_hidden": false
        },
        "nteract": {
          "transient": {
            "deleting": false
          }
        },
        "gather": {
          "logged": 1734266359584
        }
      }
    },
    {
      "cell_type": "code",
      "source": [
        "# Check for non-numeric columns\n",
        "non_numeric_columns = full_data.select_dtypes(include=['object']).columns\n",
        "print(\"Non-numeric columns:\", non_numeric_columns)\n"
      ],
      "outputs": [
        {
          "output_type": "stream",
          "name": "stdout",
          "text": "Non-numeric columns: Index(['APPUSERID', 'ARTICLE_NUMBER', 'COMPANY', 'CONTENT_TYPE'], dtype='object')\n"
        }
      ],
      "execution_count": 11,
      "metadata": {
        "jupyter": {
          "source_hidden": false,
          "outputs_hidden": false
        },
        "nteract": {
          "transient": {
            "deleting": false
          }
        },
        "gather": {
          "logged": 1734266363570
        }
      }
    },
    {
      "cell_type": "code",
      "source": [
        "\n",
        "\n",
        "# Apply Label Encoding to ID columns\n",
        "label_encoders = {}\n",
        "id_columns = ['APPUSERID', 'ARTICLE_NUMBER']\n",
        "for col in id_columns:\n",
        "    le = LabelEncoder()\n",
        "    full_data[col] = le.fit_transform(full_data[col].astype(str))\n",
        "    label_encoders[col] = le  # Save encoders for future use\n"
      ],
      "outputs": [],
      "execution_count": 12,
      "metadata": {
        "jupyter": {
          "source_hidden": false,
          "outputs_hidden": false
        },
        "nteract": {
          "transient": {
            "deleting": false
          }
        },
        "gather": {
          "logged": 1734266366586
        }
      }
    },
    {
      "cell_type": "code",
      "source": [
        "# Apply One-Hot Encoding to categorical columns\n",
        "full_data = pd.get_dummies(full_data, columns=['COMPANY', 'CONTENT_TYPE'], drop_first=True)\n"
      ],
      "outputs": [],
      "execution_count": 13,
      "metadata": {
        "jupyter": {
          "source_hidden": false,
          "outputs_hidden": false
        },
        "nteract": {
          "transient": {
            "deleting": false
          }
        },
        "gather": {
          "logged": 1734266369219
        }
      }
    },
    {
      "cell_type": "code",
      "source": [
        "# Verify column types\n",
        "print(full_data.dtypes)\n",
        "\n",
        "# Verify there are no missing values\n",
        "print(full_data.isnull().sum())\n"
      ],
      "outputs": [
        {
          "output_type": "stream",
          "name": "stdout",
          "text": "APPUSERID                                      int64\nARTICLE_NUMBER                                 int64\nTarget                                         int64\nCOMPANY_1E                                      bool\nCOMPANY_3CLogic Inc                             bool\n                                               ...  \nCONTENT_TYPE_Security Compliance                bool\nCONTENT_TYPE_Self-Hosted                        bool\nCONTENT_TYPE_Support and Troubleshooting        bool\nCONTENT_TYPE_System Error Codes                 bool\nCONTENT_TYPE_Trust, Privacy, and Compliance     bool\nLength: 2499, dtype: object\nAPPUSERID                                      0\nARTICLE_NUMBER                                 0\nTarget                                         0\nCOMPANY_1E                                     0\nCOMPANY_3CLogic Inc                            0\n                                              ..\nCONTENT_TYPE_Security Compliance               0\nCONTENT_TYPE_Self-Hosted                       0\nCONTENT_TYPE_Support and Troubleshooting       0\nCONTENT_TYPE_System Error Codes                0\nCONTENT_TYPE_Trust, Privacy, and Compliance    0\nLength: 2499, dtype: int64\n"
        }
      ],
      "execution_count": 14,
      "metadata": {
        "jupyter": {
          "source_hidden": false,
          "outputs_hidden": false
        },
        "nteract": {
          "transient": {
            "deleting": false
          }
        },
        "gather": {
          "logged": 1734266371176
        }
      }
    },
    {
      "cell_type": "markdown",
      "source": [
        "Correlation Matrix"
      ],
      "metadata": {
        "nteract": {
          "transient": {
            "deleting": false
          }
        }
      }
    },
    {
      "cell_type": "code",
      "source": [
        "# Recalculate correlations\n",
        "correlation_matrix = full_data.corr()\n",
        "target_correlation = correlation_matrix['Target'].sort_values(ascending=False)\n",
        "print(target_correlation)\n",
        "\n"
      ],
      "outputs": [
        {
          "output_type": "stream",
          "name": "stdout",
          "text": "Target                                      1.000000e+00\nCONTENT_TYPE_Support and Troubleshooting    7.955929e-01\nCONTENT_TYPE_Known Error                    3.088812e-01\nCONTENT_TYPE_Release Notes                  1.045595e-01\nCONTENT_TYPE_Self-Hosted                    8.223102e-02\n                                                ...     \nCOMPANY_Paul Hastings LLP                   7.525501e-03\nCOMPANY_Kingston Health Sciences Centre     7.525501e-03\nCOMPANY_UniKomm-ROSHN                       7.525501e-03\nCOMPANY_HGC Technologies Inc.               7.525501e-03\nAPPUSERID                                  -3.478986e-15\nName: Target, Length: 2499, dtype: float64\n"
        }
      ],
      "execution_count": 27,
      "metadata": {
        "jupyter": {
          "source_hidden": false,
          "outputs_hidden": false
        },
        "nteract": {
          "transient": {
            "deleting": false
          }
        },
        "gather": {
          "logged": 1734265059062
        }
      }
    },
    {
      "cell_type": "markdown",
      "source": [
        "Key Observations\n",
        "Target Correlation: 1.0\n",
        "\n",
        "The correlation of the Target variable with itself is always 1.0, which is expected.\n",
        "CONTENT_TYPE_Support and Troubleshooting: 0.7956\n",
        "\n",
        "This high correlation suggests that the CONTENT_TYPE_Support and Troubleshooting feature has a strong positive relationship with the target variable.\n",
        "Articles labeled with this content type are more likely to be associated with the target outcome.\n",
        "CONTENT_TYPE_Known Error: 0.3088\n",
        "\n",
        "A moderate positive correlation, indicating some predictive power of this feature.\n",
        "CONTENT_TYPE_Release Notes: 0.1046 and others\n",
        "\n",
        "These show weak correlations with the target variable, meaning their impact on predicting the target is limited.\n",
        "APPUSERID: -3.479e-15\n",
        "\n",
        "A correlation close to 0 indicates that APPUSERID has no meaningful relationship with the target variable. This is expected, as user IDs are unique identifiers and not predictive.\n",
        "COMPANY_* Features (e.g., Paul Hastings LLP): 0.0075\n",
        "\n",
        "These very low correlations indicate that the specific company associated with an interaction has minimal impact on predicting the target variable.\n"
      ],
      "metadata": {
        "nteract": {
          "transient": {
            "deleting": false
          }
        }
      }
    },
    {
      "cell_type": "markdown",
      "source": [
        "Linear Regression and Random Forest"
      ],
      "metadata": {
        "nteract": {
          "transient": {
            "deleting": false
          }
        }
      }
    },
    {
      "cell_type": "code",
      "source": [
        "# Train models to identify top features for predicting the target variable\n",
        "\n",
        "# Prepare features and target\n",
        "X = full_data.drop(columns=['Target'], errors='ignore')  # Replace 'Target' with the actual target column\n",
        "y = full_data['Target']\n",
        "\n",
        "# Train-test split\n",
        "from sklearn.model_selection import train_test_split\n",
        "X_train, X_test, y_train, y_test = train_test_split(X, y, test_size=0.2, random_state=42, stratify=y)\n",
        "\n",
        "# Train a Random Forest model to identify top features\n",
        "rf_model = RandomForestClassifier(random_state=42)\n",
        "rf_model.fit(X_train, y_train)\n",
        "\n",
        "# Evaluate the Random Forest model\n",
        "y_pred_rf = rf_model.predict(X_test)\n",
        "y_pred_proba_rf = rf_model.predict_proba(X_test)[:, 1]\n",
        "\n",
        "rf_accuracy = accuracy_score(y_test, y_pred_rf)\n",
        "rf_precision = precision_score(y_test, y_pred_rf)\n",
        "rf_recall = recall_score(y_test, y_pred_rf)\n",
        "rf_roc_auc = roc_auc_score(y_test, y_pred_proba_rf)\n",
        "\n",
        "# Train a Logistic Regression model to compare feature importance\n",
        "lr_model = LogisticRegression(max_iter=1000, random_state=42)\n",
        "lr_model.fit(X_train, y_train)\n",
        "\n",
        "# Evaluate the Logistic Regression model\n",
        "y_pred_lr = lr_model.predict(X_test)\n",
        "y_pred_proba_lr = lr_model.predict_proba(X_test)[:, 1]\n",
        "\n",
        "lr_accuracy = accuracy_score(y_test, y_pred_lr)\n",
        "lr_precision = precision_score(y_test, y_pred_lr)\n",
        "lr_recall = recall_score(y_test, y_pred_lr)\n",
        "lr_roc_auc = roc_auc_score(y_test, y_pred_proba_lr)\n",
        "\n",
        "# Extract feature importance from Random Forest\n",
        "rf_feature_importance = pd.DataFrame({\n",
        "    'Feature': X.columns,\n",
        "    'Importance': rf_model.feature_importances_\n",
        "}).sort_values(by='Importance', ascending=False)\n",
        "\n",
        "# Extract feature coefficients from Logistic Regression\n",
        "lr_feature_importance = pd.DataFrame({\n",
        "    'Feature': X.columns,\n",
        "    'Coefficient': lr_model.coef_[0]\n",
        "}).sort_values(by='Coefficient', ascending=False)\n",
        "\n",
        "# Display model evaluation metrics\n",
        "{\n",
        "    \"Random Forest\": {\n",
        "        \"Accuracy\": rf_accuracy,\n",
        "        \"Precision\": rf_precision,\n",
        "        \"Recall\": rf_recall,\n",
        "        \"ROC AUC\": rf_roc_auc\n",
        "    },\n",
        "    \"Logistic Regression\": {\n",
        "        \"Accuracy\": lr_accuracy,\n",
        "        \"Precision\": lr_precision,\n",
        "        \"Recall\": lr_recall,\n",
        "        \"ROC AUC\": lr_roc_auc\n",
        "    }\n",
        "}\n"
      ],
      "outputs": [
        {
          "output_type": "execute_result",
          "execution_count": 15,
          "data": {
            "text/plain": "{'Random Forest': {'Accuracy': 0.9944790486976217,\n  'Precision': np.float64(1.0),\n  'Recall': np.float64(0.9834394904458599),\n  'ROC AUC': np.float64(0.9999417477216461)},\n 'Logistic Regression': {'Accuracy': 0.9797565118912798,\n  'Precision': np.float64(1.0),\n  'Recall': np.float64(0.9392781316348195),\n  'ROC AUC': np.float64(0.9968251606559062)}}"
          },
          "metadata": {}
        }
      ],
      "execution_count": 15,
      "metadata": {
        "jupyter": {
          "source_hidden": false,
          "outputs_hidden": false
        },
        "nteract": {
          "transient": {
            "deleting": false
          }
        },
        "gather": {
          "logged": 1734266427525
        }
      }
    },
    {
      "cell_type": "markdown",
      "source": [
        "1. Random Forest\n",
        "Accuracy: 99.41%\n",
        "The model predicts the target correctly 99.41% of the time.\n",
        "Precision: 99.87%\n",
        "Of all the positive predictions made, 99.87% are correct.\n",
        "Recall: 98.34%\n",
        "The model identifies 98.34% of all true positive cases.\n",
        "ROC AUC: 99.95%\n",
        "The model is nearly perfect at distinguishing between the classes.\n",
        "Strengths of Random Forest:\n",
        "\n",
        "Strong performance across all metrics, with high precision and recall.\n",
        "Handles feature importance effectively, making it suitable for feature selection."
      ],
      "metadata": {
        "nteract": {
          "transient": {
            "deleting": false
          }
        }
      }
    },
    {
      "cell_type": "markdown",
      "source": [
        "2. Logistic Regression\n",
        "Accuracy: 97.98%\n",
        "Predicts the target correctly 97.98% of the time.\n",
        "Precision: 100%\n",
        "All positive predictions are correct (no false positives).\n",
        "Recall: 93.93%\n",
        "Captures 93.93% of all true positive cases.\n",
        "ROC AUC: 99.68%\n",
        "Excellent at distinguishing between classes but slightly lower than Random Forest.\n",
        "Strengths of Logistic Regression:\n",
        "\n",
        "Simpler and interpretable compared to Random Forest.\n",
        "High precision ensures no false positives, making it useful for applications requiring strict positive predictions."
      ],
      "metadata": {
        "nteract": {
          "transient": {
            "deleting": false
          }
        }
      }
    },
    {
      "cell_type": "markdown",
      "source": [
        "Comparison\n",
        "Random Forest vs Logistic Regression:\n",
        "\n",
        "Random Forest has a slight edge in recall and ROC AUC, making it better at identifying true positives.\n",
        "Logistic Regression has perfect precision, useful when avoiding false positives is critical.\n",
        "Overall:\n",
        "\n",
        "Random Forest is slightly more balanced across metrics and excels at identifying important features.\n",
        "Logistic Regression is interpretable and performs well, but it sacrifices some recall for precision."
      ],
      "metadata": {
        "nteract": {
          "transient": {
            "deleting": false
          }
        }
      }
    },
    {
      "cell_type": "markdown",
      "source": [
        "Models Cross Validation - SVM, Decision Tree and Naive Bayes"
      ],
      "metadata": {
        "nteract": {
          "transient": {
            "deleting": false
          }
        }
      }
    },
    {
      "cell_type": "code",
      "source": [
        "\n",
        "\n",
        "# Initialize models\n",
        "models = {\n",
        "    \"SVM\": SVC(probability=True, random_state=42),\n",
        "    \"Decision Tree\": DecisionTreeClassifier(random_state=42),\n",
        "    \"Naive Bayes\": GaussianNB()\n",
        "}\n",
        "\n",
        "# Train and evaluate models\n",
        "results = {}\n",
        "\n",
        "for name, model in models.items():\n",
        "    # Train the model\n",
        "    model.fit(X_train, y_train)\n",
        "    \n",
        "    # Make predictions\n",
        "    y_pred = model.predict(X_test)\n",
        "    y_pred_proba = model.predict_proba(X_test)[:, 1] if hasattr(model, \"predict_proba\") else None\n",
        "    \n",
        "    # Evaluate metrics\n",
        "    accuracy = accuracy_score(y_test, y_pred)\n",
        "    precision = precision_score(y_test, y_pred)\n",
        "    recall = recall_score(y_test, y_pred)\n",
        "    roc_auc = roc_auc_score(y_test, y_pred_proba) if y_pred_proba is not None else None\n",
        "    \n",
        "    results[name] = {\n",
        "        \"Accuracy\": accuracy,\n",
        "        \"Precision\": precision,\n",
        "        \"Recall\": recall,\n",
        "        \"ROC AUC\": roc_auc\n",
        "    }\n",
        "\n",
        "# Convert results to DataFrame for better visualization\n",
        "results_df = pd.DataFrame(results).T\n",
        "\n",
        "#import ace_tools as tools; tools.display_dataframe_to_user(name=\"SVM, Decision Tree, Naive Bayes Model Results\", dataframe=results_df)\n"
      ],
      "outputs": [
        {
          "output_type": "stream",
          "name": "stderr",
          "text": "/anaconda/envs/azureml_py310_sdkv2/lib/python3.10/site-packages/sklearn/metrics/_classification.py:1531: UndefinedMetricWarning: Precision is ill-defined and being set to 0.0 due to no predicted samples. Use `zero_division` parameter to control this behavior.\n  _warn_prf(average, modifier, f\"{metric.capitalize()} is\", len(result))\n"
        }
      ],
      "execution_count": 16,
      "metadata": {
        "jupyter": {
          "source_hidden": false,
          "outputs_hidden": false
        },
        "nteract": {
          "transient": {
            "deleting": false
          }
        },
        "gather": {
          "logged": 1734273678920
        }
      }
    },
    {
      "cell_type": "code",
      "source": [
        "results_df"
      ],
      "outputs": [
        {
          "output_type": "execute_result",
          "execution_count": 17,
          "data": {
            "text/plain": "               Accuracy  Precision    Recall   ROC AUC\nSVM            0.666619   0.000000  0.000000  0.881002\nDecision Tree  0.994337   0.995293  0.987686  0.992675\nNaive Bayes    0.965176   1.000000  0.895541  0.997990",
            "text/html": "<div>\n<style scoped>\n    .dataframe tbody tr th:only-of-type {\n        vertical-align: middle;\n    }\n\n    .dataframe tbody tr th {\n        vertical-align: top;\n    }\n\n    .dataframe thead th {\n        text-align: right;\n    }\n</style>\n<table border=\"1\" class=\"dataframe\">\n  <thead>\n    <tr style=\"text-align: right;\">\n      <th></th>\n      <th>Accuracy</th>\n      <th>Precision</th>\n      <th>Recall</th>\n      <th>ROC AUC</th>\n    </tr>\n  </thead>\n  <tbody>\n    <tr>\n      <th>SVM</th>\n      <td>0.666619</td>\n      <td>0.000000</td>\n      <td>0.000000</td>\n      <td>0.881002</td>\n    </tr>\n    <tr>\n      <th>Decision Tree</th>\n      <td>0.994337</td>\n      <td>0.995293</td>\n      <td>0.987686</td>\n      <td>0.992675</td>\n    </tr>\n    <tr>\n      <th>Naive Bayes</th>\n      <td>0.965176</td>\n      <td>1.000000</td>\n      <td>0.895541</td>\n      <td>0.997990</td>\n    </tr>\n  </tbody>\n</table>\n</div>"
          },
          "metadata": {}
        }
      ],
      "execution_count": 17,
      "metadata": {
        "jupyter": {
          "source_hidden": false,
          "outputs_hidden": false
        },
        "nteract": {
          "transient": {
            "deleting": false
          }
        },
        "gather": {
          "logged": 1734273689103
        }
      }
    },
    {
      "cell_type": "markdown",
      "source": [
        "1. SVM\n",
        "Accuracy: 0.6666 (66.66%)\n",
        "The model correctly predicts 66.66% of the cases overall.\n",
        "Precision: 0.0000\n",
        "The model predicts no true positives (all predictions for the positive class are incorrect).\n",
        "Recall: 0.0000\n",
        "The model fails to identify any true positives.\n",
        "ROC AUC: 0.8810\n",
        "Despite poor precision and recall, the model has a high ROC AUC, indicating it ranks predictions well but has poor classification thresholds.\n",
        "Interpretation:\n",
        "\n",
        "The SVM model is likely poorly calibrated, resulting in ineffective classification.\n",
        "It may require better hyperparameter tuning, feature scaling, or rebalancing the dataset.\n",
        "\n",
        "2. Decision Tree\n",
        "Accuracy: 0.9943 (99.43%)\n",
        "The model correctly predicts 99.43% of cases overall.\n",
        "Precision: 0.9953 (99.53%)\n",
        "Of all positive predictions, 99.53% are correct.\n",
        "Recall: 0.9877 (98.77%)\n",
        "The model identifies 98.77% of true positives.\n",
        "ROC AUC: 0.9927\n",
        "The model distinguishes between positive and negative classes exceptionally well.\n",
        "Interpretation:\n",
        "\n",
        "The Decision Tree model performs exceptionally across all metrics, suggesting it handles the dataset well.\n",
        "It balances precision and recall effectively, making it suitable for scenarios requiring high accuracy and reliability.\n",
        "\n",
        "3. Naive Bayes\n",
        "Accuracy: 0.9652 (96.52%)\n",
        "The model correctly predicts 96.52% of cases overall.\n",
        "Precision: 1.0000 (100%)\n",
        "All positive predictions are correct (no false positives).\n",
        "Recall: 0.8955 (89.55%)\n",
        "The model captures 89.55% of true positives.\n",
        "ROC AUC: 0.9980\n",
        "The model ranks predictions almost perfectly, indicating strong classification ability.\n",
        "Interpretation:\n",
        "\n",
        "Naive Bayes excels in precision (no false positives) but sacrifices some recall compared to the Decision Tree.\n",
        "It is ideal for use cases where false positives must be avoided, such as fraud detection or medical diagnosis.\n"
      ],
      "metadata": {
        "nteract": {
          "transient": {
            "deleting": false
          }
        }
      }
    },
    {
      "cell_type": "markdown",
      "source": [
        "Key Insights\n",
        "Best Overall Model: Decision Tree\n",
        "\n",
        "It achieves the highest accuracy, balanced precision, and recall, making it the best-performing model across metrics.\n",
        "Naive Bayes Strength: Precision\n",
        "\n",
        "Naive Bayes is the best choice when avoiding false positives is critical, even if it sacrifices some recall.\n",
        "SVM Requires Tuning:\n",
        "\n",
        "The poor precision and recall suggest that SVM needs better hyperparameter optimization, scaling, or rebalancing of data."
      ],
      "metadata": {
        "nteract": {
          "transient": {
            "deleting": false
          }
        }
      }
    },
    {
      "cell_type": "markdown",
      "source": [
        "Next Steps:\n",
        "\n",
        "1.\tFeature Importance Analysis:\n",
        "    Use feature importance from Decision Tree to prioritize key predictors.\n",
        "\n",
        "2.\tData Augmentation:\n",
        "    Enrich the dataset with additional features, such as user activity frequency or article recency.\n",
        "\n",
        "3.\tDeployment:\n",
        "    Implement the Decision Tree model in a production environment.\n",
        "    Set up monitoring to evaluate real-world performance.\n",
        "\n",
        "4.\tExplore Hybrid Models:\n",
        "    Combine collaborative filtering and content-based filtering for enhanced recommendations.\n",
        "\n",
        "5.\tHyperparameter Tuning:\n",
        "    Perform grid search or Bayesian optimization to fine-tune model performance.\n"
      ],
      "metadata": {
        "nteract": {
          "transient": {
            "deleting": false
          }
        }
      }
    },
    {
      "cell_type": "markdown",
      "source": [
        "Business Impact:\n",
        "\n",
        "Implementing the article recommender system will have the following measurable impacts:\n",
        "\n",
        "1.\tFaster Problem Resolution:\n",
        "    Users can access the right articles quickly, improving productivity.\n",
        "\n",
        "2.\tHigher Engagement:\n",
        "    More personalized recommendations lead to increased interaction rates.\n",
        "\n",
        "3.\tReduced Support Costs:\n",
        "    Fewer helpdesk calls due to proactive article recommendations.\n",
        "\n",
        "4.\tImproved Customer Satisfaction:\n",
        "    Delivering the right content enhances user trust and satisfaction.\n"
      ],
      "metadata": {
        "nteract": {
          "transient": {
            "deleting": false
          }
        }
      }
    },
    {
      "cell_type": "markdown",
      "source": [
        "Recommendations:\n",
        "\n",
        "1.\tImplement and Evaluate Models:\n",
        "    Use a Decision Tree, Naive Bayes, or other models to predict relevant articles.\n",
        "\n",
        "2.\tDeploy the Recommender System:\n",
        "    Integrate the model into a production environment.\n",
        "\n",
        "3.\tMonitor Performance:\n",
        "    Track Precision@K, Recall@K, and user engagement.\n",
        "\n",
        "4.\tRefine the System:\n",
        "    Continuously improve the model using feedback and interaction data.\n"
      ],
      "metadata": {
        "nteract": {
          "transient": {
            "deleting": false
          }
        }
      }
    }
  ],
  "metadata": {
    "kernelspec": {
      "name": "python310-sdkv2",
      "language": "python",
      "display_name": "Python 3.10 - SDK v2"
    },
    "language_info": {
      "name": "python",
      "version": "3.10.14",
      "mimetype": "text/x-python",
      "codemirror_mode": {
        "name": "ipython",
        "version": 3
      },
      "pygments_lexer": "ipython3",
      "nbconvert_exporter": "python",
      "file_extension": ".py"
    },
    "microsoft": {
      "ms_spell_check": {
        "ms_spell_check_language": "en"
      },
      "host": {
        "AzureML": {
          "notebookHasBeenCompleted": true
        }
      }
    },
    "kernel_info": {
      "name": "python310-sdkv2"
    },
    "nteract": {
      "version": "nteract-front-end@1.0.0"
    }
  },
  "nbformat": 4,
  "nbformat_minor": 2
}